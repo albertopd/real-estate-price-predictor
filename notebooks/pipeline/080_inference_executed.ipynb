{
 "cells": [
  {
   "cell_type": "code",
   "execution_count": 1,
   "id": "a6448b87",
   "metadata": {
    "execution": {
     "iopub.execute_input": "2025-06-29T16:39:38.557740Z",
     "iopub.status.busy": "2025-06-29T16:39:38.557740Z",
     "iopub.status.idle": "2025-06-29T16:39:44.797817Z",
     "shell.execute_reply": "2025-06-29T16:39:44.797817Z"
    }
   },
   "outputs": [
    {
     "name": "stdout",
     "output_type": "stream",
     "text": [
      "Using ML-ready dataset: immoweb_real_estate_ml_ready.csv\n"
     ]
    },
    {
     "name": "stdout",
     "output_type": "stream",
     "text": [
      "10 random properties selected for prediction.\n",
      "Prediction completed for model: catboost_optuna_all_20250629_1644_TEST\n",
      "Prediction completed for model: catboost_optuna_all_20250629_1749_TEST\n",
      "Prediction completed for model: catboost_optuna_all_20250629_1830_TEST\n",
      "Prediction completed for model: catboost_optuna_all_20250629_1839_TEST\n",
      "Prediction completed for model: catboost_optuna_top30_20250629_1644_TEST\n",
      "Prediction completed for model: catboost_optuna_top30_20250629_1749_TEST\n",
      "Prediction completed for model: catboost_optuna_top30_20250629_1830_TEST\n",
      "Prediction completed for model: catboost_optuna_top30_20250629_1839_TEST\n"
     ]
    },
    {
     "name": "stdout",
     "output_type": "stream",
     "text": [
      "Prediction completed for model: xgboost_optuna_all_20250629_1643_TEST\n",
      "Prediction completed for model: xgboost_optuna_all_20250629_1745_TEST\n",
      "Prediction completed for model: xgboost_optuna_all_20250629_1824_TEST\n",
      "Prediction completed for model: xgboost_optuna_all_20250629_1829_TEST\n",
      "Prediction completed for model: xgboost_optuna_all_20250629_1836_TEST\n",
      "Prediction completed for model: xgboost_optuna_top30_20250629_1643_TEST\n",
      "Prediction completed for model: xgboost_optuna_top30_20250629_1745_TEST\n"
     ]
    },
    {
     "name": "stdout",
     "output_type": "stream",
     "text": [
      "Prediction completed for model: xgboost_optuna_top30_20250629_1824_TEST\n",
      "Prediction completed for model: xgboost_optuna_top30_20250629_1829_TEST\n",
      "Prediction completed for model: xgboost_optuna_top30_20250629_1836_TEST\n",
      "Inference predictions saved to: E:\\_SoftEng\\predictions\\inference_predictions_20250629_1839.csv\n"
     ]
    }
   ],
   "source": [
    "import sys, os\n",
    "import json\n",
    "from glob import glob\n",
    "import pandas as pd\n",
    "from joblib import load\n",
    "from datetime import datetime\n",
    "\n",
    "# Add the project root to the Python path\n",
    "project_root = os.path.abspath(\"../..\")\n",
    "sys.path.append(project_root)\n",
    "\n",
    "# Import project constants\n",
    "from utils.constants import ML_READY_DATA_FILE, MODELS_DIR\n",
    "\n",
    "# Define the correct predictions directory (at the root)\n",
    "PREDICTIONS_DIR = os.path.abspath(os.path.join(project_root, \"predictions\"))\n",
    "\n",
    "# Step 1: Load the machine learning-ready dataset\n",
    "if not os.path.exists(ML_READY_DATA_FILE):\n",
    "    raise FileNotFoundError(f\"ML-ready dataset not found at: {ML_READY_DATA_FILE}\")\n",
    "\n",
    "print(f\"Using ML-ready dataset: {os.path.basename(ML_READY_DATA_FILE)}\")\n",
    "df = pd.read_csv(ML_READY_DATA_FILE)\n",
    "\n",
    "# Step 2: Randomly select 10 properties for inference\n",
    "df_sample = df.sample(n=10, random_state=42).reset_index(drop=True)\n",
    "print(\"10 random properties selected for prediction.\")\n",
    "\n",
    "# Remove non-feature columns\n",
    "base_features = df_sample.drop(columns=[\"id\", \"url\"], errors=\"ignore\")\n",
    "\n",
    "# Step 3: Load all .pkl models and perform predictions\n",
    "models_pkl_dir = os.path.join(MODELS_DIR, \"pkl\")\n",
    "models_json_dir = os.path.join(MODELS_DIR, \"features\")\n",
    "\n",
    "pkl_files = glob(os.path.join(models_pkl_dir, \"*.pkl\"))\n",
    "\n",
    "if not pkl_files:\n",
    "    raise ValueError(f\"No .pkl models found in: {models_pkl_dir}\")\n",
    "\n",
    "predictions = df_sample.copy()\n",
    "\n",
    "for pkl_path in pkl_files:\n",
    "    model_name = os.path.basename(pkl_path).replace(\".pkl\", \"\")\n",
    "    json_filename = model_name + \".json\"\n",
    "    json_path = os.path.join(models_json_dir, json_filename)\n",
    "\n",
    "    if not os.path.exists(json_path):\n",
    "        print(f\"Skipping model '{model_name}': missing features file '{json_filename}'\")\n",
    "        continue\n",
    "\n",
    "    try:\n",
    "        # Load model and its features\n",
    "        model = load(pkl_path)\n",
    "        with open(json_path, \"r\") as f:\n",
    "            features = json.load(f)\n",
    "\n",
    "        # Subset input and predict\n",
    "        X_input = base_features[features]\n",
    "        preds = model.predict(X_input)\n",
    "        predictions[model_name] = preds\n",
    "\n",
    "        print(f\"Prediction completed for model: {model_name}\")\n",
    "\n",
    "    except Exception as e:\n",
    "        print(f\"❌ Failed prediction for model '{model_name}': {e}\")\n",
    "\n",
    "# Step 4: Save predictions to CSV (in correct predictions/ folder)\n",
    "os.makedirs(PREDICTIONS_DIR, exist_ok=True)\n",
    "timestamp = datetime.now().strftime(\"%Y%m%d_%H%M\")\n",
    "output_file = f\"inference_predictions_{timestamp}.csv\"\n",
    "output_path = os.path.join(PREDICTIONS_DIR, output_file)\n",
    "\n",
    "predictions.to_csv(output_path, index=False)\n",
    "print(f\"Inference predictions saved to: {output_path}\")\n"
   ]
  }
 ],
 "metadata": {
  "kernelspec": {
   "display_name": ".venv",
   "language": "python",
   "name": "python3"
  },
  "language_info": {
   "codemirror_mode": {
    "name": "ipython",
    "version": 3
   },
   "file_extension": ".py",
   "mimetype": "text/x-python",
   "name": "python",
   "nbconvert_exporter": "python",
   "pygments_lexer": "ipython3",
   "version": "3.12.10"
  }
 },
 "nbformat": 4,
 "nbformat_minor": 5
}
