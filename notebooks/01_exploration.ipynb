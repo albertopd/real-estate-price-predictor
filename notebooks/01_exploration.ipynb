{
 "cells": [
  {
   "cell_type": "code",
   "execution_count": null,
   "metadata": {},
   "outputs": [],
   "source": []
  },
  {
   "cell_type": "code",
   "execution_count": null,
   "metadata": {},
   "outputs": [],
   "source": []
  },
  {
   "cell_type": "code",
   "execution_count": null,
   "metadata": {},
   "outputs": [
    {
     "name": "stdout",
     "output_type": "stream",
     "text": [
      "🔍 Duplicate columns: []\n"
     ]
    }
   ],
   "source": [
    "import pandas as pd\n",
    "\n",
    "# Lire le CSV (remplace par ton chemin réel si besoin)\n",
    "df = pd.read_csv(\"../data/immovlan_real_estate.csv\")\n",
    "\n",
    "# Supprimer les espaces en trop dans les noms de colonnes (important !)\n",
    "df.columns = df.columns.str.strip()\n",
    "\n",
    "# Trouver les colonnes dupliquées par nom\n",
    "dupes = df.columns[df.columns.duplicated()].tolist()\n",
    "print(\"Duplicate columns:\", dupes)\n",
    "\n",
    "# Pour chaque colonne dupliquée, afficher les différentes versions côte à côte\n",
    "for col_name in dupes:\n",
    "    indices = [i for i, col in enumerate(df.columns) if col == col_name]\n",
    "    print(f\"\\n Comparing duplicate columns for: '{col_name}' (indices: {indices})\")\n",
    "\n",
    "    # Extraire les colonnes dupliquées\n",
    "    df_dupes = df.iloc[:, indices]\n",
    "    df_dupes.columns = [f\"{col_name}_v{i+1}\" for i in range(len(indices))]  # renommer pour comparaison\n",
    "\n",
    "    # Afficher les 10 premières lignes côte à côte\n",
    "    print(df_dupes.head(10))\n"
   ]
  }
 ],
 "metadata": {
  "kernelspec": {
   "display_name": ".venv",
   "language": "python",
   "name": "python3"
  },
  "language_info": {
   "codemirror_mode": {
    "name": "ipython",
    "version": 3
   },
   "file_extension": ".py",
   "mimetype": "text/x-python",
   "name": "python",
   "nbconvert_exporter": "python",
   "pygments_lexer": "ipython3",
   "version": "3.12.10"
  }
 },
 "nbformat": 4,
 "nbformat_minor": 2
}
