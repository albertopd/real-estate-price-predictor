{
 "cells": [
  {
   "cell_type": "markdown",
   "metadata": {},
   "source": [
    "# Real Estate Data Analysis – ImmoEliza\n",
    "\n",
    "## Project Overview\n",
    "\n",
    "The goal of this challenge is to support the real estate company *ImmoEliza* in its ambition to become the leading real estate player in Belgium. To do so, the company needs a strong pricing strategy based on data.\n",
    "\n",
    "Before building a machine learning model, we will perform a thorough data analysis to:\n",
    "\n",
    "- Understand the structure and content of the dataset\n",
    "- Clean and prepare the data\n",
    "- Extract key insights for business decision-making\n",
    "- Visualize patterns and trends in the Belgian real estate market\n",
    "\n",
    "This project is carried out as part of the `challenge-data-analysis`.\n",
    "\n",
    "## Team Members\n",
    "- [Evi]\n",
    "- [Moussa]\n",
    "- [Yves]\n",
    "\n",
    "## Notebook Structure\n",
    "1. Data loading and exploration  \n",
    "2. Data cleaning  \n",
    "3. Exploratory data analysis (EDA)  \n",
    "4. Guided analysis and visual questions  \n",
    "5. Interpretation and business insights  \n",
    "6. Optional bonus visualizations  \n",
    "7. Export and documentation  "
   ]
  },
  {
   "cell_type": "markdown",
   "metadata": {},
   "source": []
  },
  {
   "cell_type": "markdown",
   "metadata": {},
   "source": [
    "# 1. Data loading and exploration  \n",
    "- 1.1. Import Required Libraries\n",
    "- 1.2. Load the Dataset\n",
    "- 1.3. First Glance at the Data\n",
    "  - Dataset shape\n",
    "  - Column names\n",
    "  - Data types\n",
    "  - First rows (`.head()`)"
   ]
  },
  {
   "cell_type": "markdown",
   "metadata": {},
   "source": [
    "## 1.1. Import Required Libraries"
   ]
  },
  {
   "cell_type": "code",
   "execution_count": 1,
   "metadata": {},
   "outputs": [],
   "source": [
    "import pandas as pd\n",
    "import seaborn as sns\n",
    "import matplotlib.pyplot as plt"
   ]
  },
  {
   "cell_type": "markdown",
   "metadata": {},
   "source": [
    "## 1.2. Load the Dataset\n"
   ]
  },
  {
   "cell_type": "code",
   "execution_count": null,
   "metadata": {},
   "outputs": [],
   "source": [
    "csv_path = \"../data/zimmo_real_estate_jgchoti.csv\"\n",
    "df = pd.read_csv(csv_path)"
   ]
  },
  {
   "cell_type": "markdown",
   "metadata": {},
   "source": [
    "## 1.3. First Glance at the Data\n",
    "  - Dataset shape\n",
    "  - Column names\n",
    "  - Data types\n",
    "  - First rows (`.head()`)"
   ]
  },
  {
   "cell_type": "code",
   "execution_count": null,
   "metadata": {},
   "outputs": [],
   "source": [
    "# Display dataset shape: number of rows and columns\n",
    "print(\"Dataset shape:\", df.shape)\n",
    "\n",
    "# Display column names\n",
    "print(\"\\nColumn names:\")\n",
    "print(df.columns.tolist())\n",
    "\n",
    "# Display data types\n",
    "print(\"\\nData types:\")\n",
    "print(df.dtypes)\n",
    "\n",
    "# Display the first 5 rows\n",
    "df.head()"
   ]
  },
  {
   "cell_type": "markdown",
   "metadata": {},
   "source": [
    "# 2. Data cleaning \n",
    "- 2.1. Remove Duplicates\n",
    "- 2.2. Handle Missing Values\n",
    "- 2.3. Clean Whitespace and Fix Formatting\n",
    "- 2.4. Save Cleaned Dataset (Optional)"
   ]
  },
  {
   "cell_type": "code",
   "execution_count": null,
   "metadata": {},
   "outputs": [],
   "source": []
  },
  {
   "cell_type": "markdown",
   "metadata": {},
   "source": [
    "# 3. Exploratory data analysis (EDA) \n",
    "- 3.1. Variable Types: Quantitative vs Qualitative\n",
    "- 3.2. Missing Values Overview\n",
    "- 3.3. Descriptive Statistics (Mean, Median, etc.)\n",
    "- 3.4. Distribution Visualizations\n",
    "  - Histograms\n",
    "  - Boxplots\n",
    "- 3.5. Correlation Matrix & Heatmap\n",
    "- 3.6. Outlier Detection"
   ]
  },
  {
   "cell_type": "code",
   "execution_count": null,
   "metadata": {},
   "outputs": [],
   "source": []
  },
  {
   "cell_type": "markdown",
   "metadata": {},
   "source": [
    "# 4. Guided analysis and visual questions  \n",
    "- 4.1. Most & Least Expensive Municipalities\n",
    "  - Belgium, Wallonia, Flanders\n",
    "  - Avg / Median / Price per m<sup>2</sup>\n",
    "-  4.2. Most Influential Variables on Price\n",
    "-  4.3. Variables with Low or No Impact\n",
    "-  4.4. Histogram: Properties by Surface\n",
    "-  4.5. Encoding Strategy for Categorical Variables"
   ]
  },
  {
   "cell_type": "code",
   "execution_count": null,
   "metadata": {},
   "outputs": [],
   "source": []
  },
  {
   "cell_type": "markdown",
   "metadata": {},
   "source": [
    "# 5. Interpretation and Business Insights\n",
    "- 5.1. Summary of Key Findings\n",
    "- 5.2. Business Recommendations for ImmoEliza\n",
    "- 5.3. Data Limitations"
   ]
  },
  {
   "cell_type": "code",
   "execution_count": null,
   "metadata": {},
   "outputs": [],
   "source": []
  },
  {
   "cell_type": "markdown",
   "metadata": {},
   "source": [
    "# 6. Optional bonus visualizations \n",
    "-  6.1. Geo Mapping (price per region/municipality)\n",
    "-  6.2. Trendlines or Regression Analysis\n",
    "-  6.3. Clustering or Time Evolution (if available)"
   ]
  },
  {
   "cell_type": "code",
   "execution_count": null,
   "metadata": {},
   "outputs": [],
   "source": []
  },
  {
   "cell_type": "markdown",
   "metadata": {},
   "source": [
    "# 7. Export and documentation  \n",
    "- 7.1. Export Final Clean Dataset\n",
    "- 7.2. Save Visuals and Aggregated Tables\n",
    "- 7.3. Final README Content\n",
    "  - Project description\n",
    "  - Installation\n",
    "  - Usage\n",
    "  - Visual examples\n",
    "  - Team & timeline"
   ]
  }
 ],
 "metadata": {
  "kernelspec": {
   "display_name": ".venv",
   "language": "python",
   "name": "python3"
  },
  "language_info": {
   "codemirror_mode": {
    "name": "ipython",
    "version": 3
   },
   "file_extension": ".py",
   "mimetype": "text/x-python",
   "name": "python",
   "nbconvert_exporter": "python",
   "pygments_lexer": "ipython3",
   "version": "3.12.10"
  }
 },
 "nbformat": 4,
 "nbformat_minor": 2
}
